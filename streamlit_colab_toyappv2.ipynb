{
  "nbformat": 4,
  "nbformat_minor": 0,
  "metadata": {
    "colab": {
      "name": "streamlit-colab_toyappv2.ipynb",
      "provenance": [],
      "collapsed_sections": [],
      "authorship_tag": "ABX9TyMhM5umhOYPPHZGPi4JPf2G",
      "include_colab_link": true
    },
    "kernelspec": {
      "name": "python3",
      "display_name": "Python 3"
    },
    "language_info": {
      "name": "python"
    }
  },
  "cells": [
    {
      "cell_type": "markdown",
      "metadata": {
        "id": "view-in-github",
        "colab_type": "text"
      },
      "source": [
        "<a href=\"https://colab.research.google.com/github/prakashsukhwal/Python-based-classes-ML/blob/main/streamlit_colab_toyappv2.ipynb\" target=\"_parent\"><img src=\"https://colab.research.google.com/assets/colab-badge.svg\" alt=\"Open In Colab\"/></a>"
      ]
    },
    {
      "cell_type": "code",
      "metadata": {
        "id": "xSrMTtRUNvGu"
      },
      "source": [
        "!pip install streamlit"
      ],
      "execution_count": null,
      "outputs": []
    },
    {
      "cell_type": "code",
      "metadata": {
        "id": "ezJDaq8rTGmN"
      },
      "source": [
        "!pip install pyngrok"
      ],
      "execution_count": null,
      "outputs": []
    },
    {
      "cell_type": "code",
      "metadata": {
        "id": "UEH8T1ZP3pjU"
      },
      "source": [
        "# from pyngrok import ngrok"
      ],
      "execution_count": null,
      "outputs": []
    },
    {
      "cell_type": "code",
      "metadata": {
        "id": "tk60Kn1ON4FF"
      },
      "source": [
        "# Author: Prakash Sukhwal\n",
        "# version: 2.0\n",
        "# Aug 2021\n",
        "%%writefile toy-app1_v2.0.py\n",
        "import streamlit as st\n",
        "# other libs\n",
        "import numpy as np\n",
        "import pandas as pd\n",
        "from sklearn import datasets\n",
        "import matplotlib.pyplot as plt\n",
        "import seaborn as sns\n",
        "# -- Set page config\n",
        "apptitle = 'Solution Implementation'\n",
        "\n",
        "st.set_page_config(page_title=apptitle, page_icon='random', layout= 'wide', initial_sidebar_state=\"expanded\")\n",
        "# random icons in the browser tab\n",
        "\n",
        "def main():\n",
        "  \n",
        "  st.title('Toy App-1 on the go..')\n",
        "  st.balloons() \n",
        "\n",
        "  # Let's add a sub-title\n",
        "  st.write(\"A **_cool_** toy application\")\n",
        "\n",
        "\n",
        "  # Let's load and display a data set\n",
        "  st.subheader('**1. A random dataset**')\n",
        "\n",
        "  df1 = pd.DataFrame(np.random.randn(10, 20),\n",
        "  columns=('col %d' % i for i in range(20)))\n",
        "\n",
        "  st.dataframe(df1.style.highlight_max(axis=0))\n",
        "  st.write('source: https://docs.streamlit.io/en/stable/api.html#display-data')\n",
        "\n",
        "  st.subheader('**2. Boston Housing Data**')\n",
        "  boston = datasets.load_boston()\n",
        "  df2 = pd.DataFrame(boston.data, columns=boston.feature_names)\n",
        "  # st.dataframe(df2)\n",
        "\n",
        "  # let us try some plotting\n",
        "  fig, ax = plt.subplots(figsize=(6, 3))\n",
        "  # sns.boxplot(data=df2)\n",
        "  # st.pyplot(fig)\n",
        "\n",
        "  col1, col2 = st.columns((1,1))\n",
        "  with col2:\n",
        "    st.dataframe(df2)\n",
        "  with col1:\n",
        "    sns.boxplot(data=df2)\n",
        "    st.pyplot(fig)\n",
        "if __name__ == '__main__':\n",
        "  main()"
      ],
      "execution_count": null,
      "outputs": []
    },
    {
      "cell_type": "code",
      "metadata": {
        "id": "LEkL4tECPtf_"
      },
      "source": [
        "!ls"
      ],
      "execution_count": null,
      "outputs": []
    },
    {
      "cell_type": "code",
      "metadata": {
        "id": "aaPZ7hARVefl"
      },
      "source": [
        "!wget https://bin.equinox.io/c/4VmDzA7iaHb/ngrok-stable-linux-amd64.zip"
      ],
      "execution_count": null,
      "outputs": []
    },
    {
      "cell_type": "code",
      "metadata": {
        "id": "sla3v3o1VeVd"
      },
      "source": [
        "!unzip ngrok-stable-linux-amd64.zip"
      ],
      "execution_count": null,
      "outputs": []
    },
    {
      "cell_type": "code",
      "metadata": {
        "id": "KBV-UJfeVvQl"
      },
      "source": [
        "get_ipython().system_raw('./ngrok http 8501 &')"
      ],
      "execution_count": null,
      "outputs": []
    },
    {
      "cell_type": "code",
      "metadata": {
        "id": "4_-rJtpcPtcS"
      },
      "source": [
        "# run the app\n",
        "!streamlit run toy-app1_v2.0.py &>/dev/null&"
      ],
      "execution_count": null,
      "outputs": []
    },
    {
      "cell_type": "code",
      "metadata": {
        "id": "1audXTOWVvEq"
      },
      "source": [
        "!curl -s http://localhost:4040/api/tunnels | python3 -c \\\n",
        "    'import sys, json; print(\" Access the app at URL: \" +json.load(sys.stdin)[\"tunnels\"][0][\"public_url\"])'"
      ],
      "execution_count": null,
      "outputs": []
    },
    {
      "cell_type": "code",
      "metadata": {
        "id": "fhyZRx9Qvb3q"
      },
      "source": [
        "# what is the process id\n",
        "!pgrep streamlit"
      ],
      "execution_count": null,
      "outputs": []
    },
    {
      "cell_type": "code",
      "metadata": {
        "id": "Tsv-e5h-XOQl"
      },
      "source": [
        "!kill 385 # change with current process id"
      ],
      "execution_count": null,
      "outputs": []
    },
    {
      "cell_type": "code",
      "metadata": {
        "id": "Cmxyfvfe2GMa"
      },
      "source": [
        "# ngrok.kill()"
      ],
      "execution_count": null,
      "outputs": []
    }
  ]
}